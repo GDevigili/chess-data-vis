{
 "cells": [
  {
   "cell_type": "markdown",
   "id": "organizational-sheet",
   "metadata": {},
   "source": [
    "# Visualização da Informação\n",
    "## Escola de Matemática Aplicada - Fundação Getúlio Vargas\n",
    "## Mestrado em Modelagem Matemática\n",
    "\n",
    "Aluno: Gianlucca Devigili<br>\n",
    "Github do projeto: https://github.com/GDevigili/information-visualization-homeworks\n",
    "\n",
    "# Trabalho Final: Briefing"
   ]
  },
  {
   "cell_type": "code",
   "execution_count": 8,
   "id": "familiar-creator",
   "metadata": {},
   "outputs": [],
   "source": [
    "# tratamento de dados\n",
    "import pandas as pd\n",
    "\n",
    "# ferramentas de visualização\n",
    "import altair as alt"
   ]
  },
  {
   "cell_type": "code",
   "execution_count": 2,
   "id": "involved-relevance",
   "metadata": {},
   "outputs": [],
   "source": [
    "# carregando o dataset\n",
    "df_chess = pd.read_csv('chess_games.csv')"
   ]
  },
  {
   "cell_type": "markdown",
   "id": "athletic-bradley",
   "metadata": {},
   "source": [
    "### 1. Definir a curiosidade que originou a escolha da base \n",
    "\n",
    "A base de dados escolhida foi a [**Online Chess Games**](https://www.kaggle.com/mysarahmadbhat/online-chess-games) que contém dados referentes à 20.000 jogos de xadrez da plataforma [lichess.org](https://lichess.org/)\n",
    "\n",
    "+ Hipótese sobre os dados \n",
    "+ Quem é o público alvo? \n",
    "+ O que pode ser interessante de encontrar nos dados? \n",
    "    + padrões nas jogadas\n",
    "    + quais as aberturas mais frequentes?\n",
    "    + quais as aberturas mais frequentes em cada modo de jogo? (e.g. Blitz, Bullet, Clássico, Sem Tempo)\n",
    "    + quais aberturas que mais levam à vitória (individualmente e também por cor)"
   ]
  },
  {
   "cell_type": "markdown",
   "id": "local-majority",
   "metadata": {},
   "source": [
    "### 2. Documentar as circunstâncias \n",
    "\n",
    "+ Restrições de prazo\n",
    "    + 13 de dezembro \n",
    "+ Como a visualização será consumida\n",
    "\n",
    "    Interface web construída com o streamlit.\n",
    "\n",
    "A visualização será\n",
    "   \n",
    "+ Quais são os entregáveis\n",
    "    + relatório pdf \n",
    "    + interface streamlit\n",
    "+ Quais são as qualificações técnicas disponíveis "
   ]
  },
  {
   "cell_type": "markdown",
   "id": "noted-nudist",
   "metadata": {},
   "source": [
    "### 3. Qual a função da sua visualização? \n",
    "\n",
    "+ Explanatória vs. Exploratória? \n",
    "+ Neutra ou carregada de expressividade para comunicar alguma emoção? "
   ]
  },
  {
   "cell_type": "markdown",
   "id": "biblical-claim",
   "metadata": {},
   "source": [
    "### 4. Quais perguntas pretendem ser respondidas pela solução proposta? \n",
    "\n",
    "+ Quais as casas mais \"frequentadas\"?\n",
    "+ Quais as casas mais \"frequentadas por cada tipo de peça?"
   ]
  },
  {
   "cell_type": "markdown",
   "id": "alleged-implement",
   "metadata": {},
   "source": [
    "### 5. Examinando a Base de Dados\n",
    "+ Iistar as variáveis de interesse \n",
    "+ Anotar o tipo das variáveis de interesse \n"
   ]
  },
  {
   "cell_type": "code",
   "execution_count": 4,
   "id": "fundamental-washer",
   "metadata": {},
   "outputs": [
    {
     "name": "stdout",
     "output_type": "stream",
     "text": [
      "<class 'pandas.core.frame.DataFrame'>\n",
      "RangeIndex: 20058 entries, 0 to 20057\n",
      "Data columns (total 17 columns):\n",
      " #   Column             Non-Null Count  Dtype \n",
      "---  ------             --------------  ----- \n",
      " 0   game_id            20058 non-null  int64 \n",
      " 1   rated              20058 non-null  bool  \n",
      " 2   turns              20058 non-null  int64 \n",
      " 3   victory_status     20058 non-null  object\n",
      " 4   winner             20058 non-null  object\n",
      " 5   time_increment     20058 non-null  object\n",
      " 6   white_id           20058 non-null  object\n",
      " 7   white_rating       20058 non-null  int64 \n",
      " 8   black_id           20058 non-null  object\n",
      " 9   black_rating       20058 non-null  int64 \n",
      " 10  moves              20058 non-null  object\n",
      " 11  opening_code       20058 non-null  object\n",
      " 12  opening_moves      20058 non-null  int64 \n",
      " 13  opening_fullname   20058 non-null  object\n",
      " 14  opening_shortname  20058 non-null  object\n",
      " 15  opening_response   1207 non-null   object\n",
      " 16  opening_variation  14398 non-null  object\n",
      "dtypes: bool(1), int64(5), object(11)\n",
      "memory usage: 2.5+ MB\n"
     ]
    }
   ],
   "source": [
    "df_chess.info()"
   ]
  },
  {
   "cell_type": "markdown",
   "id": "solid-brass",
   "metadata": {},
   "source": [
    "A principal variável que desejo analisar é a `moves`, que contém a anotação dos movimentos da partida, por exemplo\n",
    "> d4 Nc6 e4 e5 f4 f6 dxe5 fxe5 fxe5 Nxe5 Qd4 Nc6 Qe5+ Nxe5 c4 Bb4+ \n",
    "\n",
    "a ideia é transformar essas jogadas em um novo *dataframe* como o abaixo:\n",
    "\n",
    "| game_id | turn | color | piece  | position | x | y |\n",
    "|:---------|:------|:-------:|:--------:|:----------:|-----|-----|\n",
    "| 1       | 1    | w     | rook   | a1       | 1 | 1 |\n",
    "| 1       | 2    | b     | knight | b1       | 2 | 1 |\n",
    "| ...     | ...  | ...   | ...    | ...      | ... | ... |\n",
    "\n",
    "*talvez alterações sejam necessárias de modo a facilitar o código, no momento o formato acima é apenas um rascunho*\n",
    "\n",
    "outra variável que desejo analisar são os referentes às aberturas: `opening_shortname`, `opening_moves`, `opening_variation`, etc. que são variáveis categóricas."
   ]
  },
  {
   "cell_type": "markdown",
   "id": "presidential-zimbabwe",
   "metadata": {},
   "source": [
    "+ Técnica: matriz de criatividade \n",
    "+ Identificar a característica central do seu dado: temporal, espacial, … "
   ]
  },
  {
   "cell_type": "markdown",
   "id": "demanding-binary",
   "metadata": {},
   "source": [
    "### 6. Imagens mentais\n",
    "\n",
    "+ Faça uma seleção de referências visuais relacionadas ao projeto pretendido \n",
    "\n",
    "Algumas referências de inspiração:\n",
    "+ https://blog.ebemunk.com/a-visual-look-at-2-million-chess-games/\n",
    "+ https://www.reddit.com/r/HikaruNakamura/comments/ldhamy/i_created_a_visualization_on_chess_data_to/\n",
    "+ https://infographic.tv/data-visualization-oc-visual-look-at-2-million-chess-games-part-2/\n",
    "+ http://www.thefunctionalart.com/2016/05/visualizing-chess.html\n",
    "+ https://jkunst.com/blog/posts/2015-10-30-visualizing-chess-data-with-ggplot/ (mostra como eu quero os dados)"
   ]
  },
  {
   "cell_type": "code",
   "execution_count": null,
   "id": "fundamental-median",
   "metadata": {},
   "outputs": [],
   "source": []
  }
 ],
 "metadata": {
  "kernelspec": {
   "display_name": "Python 3",
   "language": "python",
   "name": "python3"
  },
  "language_info": {
   "codemirror_mode": {
    "name": "ipython",
    "version": 3
   },
   "file_extension": ".py",
   "mimetype": "text/x-python",
   "name": "python",
   "nbconvert_exporter": "python",
   "pygments_lexer": "ipython3",
   "version": "3.8.8"
  }
 },
 "nbformat": 4,
 "nbformat_minor": 5
}
