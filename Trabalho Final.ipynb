{
 "cells": [
  {
   "cell_type": "markdown",
   "id": "generous-honey",
   "metadata": {},
   "source": [
    "Dataset: https://www.kaggle.com/mysarahmadbhat/online-chess-games\n",
    "    \n",
    "Visualizações de base: \n",
    "+ https://blog.ebemunk.com/a-visual-look-at-2-million-chess-games/\n",
    "+ https://www.reddit.com/r/HikaruNakamura/comments/ldhamy/i_created_a_visualization_on_chess_data_to/\n",
    "+ https://infographic.tv/data-visualization-oc-visual-look-at-2-million-chess-games-part-2/\n",
    "+ http://www.thefunctionalart.com/2016/05/visualizing-chess.html"
   ]
  },
  {
   "cell_type": "code",
   "execution_count": null,
   "id": "amber-hollywood",
   "metadata": {},
   "outputs": [],
   "source": []
  }
 ],
 "metadata": {
  "kernelspec": {
   "display_name": "Python 3",
   "language": "python",
   "name": "python3"
  },
  "language_info": {
   "codemirror_mode": {
    "name": "ipython",
    "version": 3
   },
   "file_extension": ".py",
   "mimetype": "text/x-python",
   "name": "python",
   "nbconvert_exporter": "python",
   "pygments_lexer": "ipython3",
   "version": "3.8.8"
  }
 },
 "nbformat": 4,
 "nbformat_minor": 5
}
