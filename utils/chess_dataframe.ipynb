{
 "cells": [
  {
   "cell_type": "code",
   "execution_count": 20,
   "id": "fixed-death",
   "metadata": {},
   "outputs": [],
   "source": [
    "import pandas as pd\n",
    "import chess\n",
    "import pickle as pkl"
   ]
  },
  {
   "cell_type": "code",
   "execution_count": 4,
   "metadata": {},
   "outputs": [],
   "source": [
    "def get_fen_list(moves : str)->list:\n",
    "    \"\"\"Transform a string of moves in SAN into a list of FEN board positions for each of the string's moves.\n",
    "\n",
    "    Args:\n",
    "        moves (str): string containing the moves in Standart Algebraic Notation separated by an empty space.\n",
    "\n",
    "    Returns:\n",
    "        fen_list (list str): list of the Forsty-Edwards Notation of the current board position of each turn.\n",
    "    \"\"\"\n",
    "    # defines a new board in the starting position\n",
    "    board = chess.Board()\n",
    "    # creates a list of FEN's\n",
    "    fen_list = [board.fen()]\n",
    "    # transform the string in a list with the moves\n",
    "    moves = moves.split(\" \")\n",
    "\n",
    "    for mv in moves:\n",
    "        # aplica o movimento ao tabuleiro\n",
    "        board.push_san(mv)\n",
    "        fen_list.append(board.fen())\n",
    "    \n",
    "    return fen_list\n",
    "    "
   ]
  },
  {
   "cell_type": "code",
   "execution_count": 5,
   "metadata": {},
   "outputs": [],
   "source": [
    "def get_fen_dict(fen: str)->dict:\n",
    "    placement, active_color, castling, en_passant, halfmove_clock, fullmove_clock = fen.split(\" \")\n",
    "    return {\n",
    "        \"placement\":     placement,\n",
    "        \"active_color\":  active_color,\n",
    "        \"castling\":      castling,\n",
    "        \"en_passant\":    en_passant,\n",
    "        \"halfmove_clock\":halfmove_clock,\n",
    "        \"fullmove_clock\": fullmove_clock\n",
    "    }"
   ]
  },
  {
   "cell_type": "code",
   "execution_count": 30,
   "metadata": {},
   "outputs": [],
   "source": [
    "def get_turn_df(fen: str)->pd.DataFrame:    \n",
    "    \"\"\"Transforms a FEN str into a dataframe containing a turn's piece, piece color, x position (1=a, ... 8=h) and y position (1, ..., 8)\"\"\"\n",
    "    \n",
    "    # get only the placement part of the fen string (e.g. rnbqkbnr/pppppppp/8/8/8/8/PPPPPPPP/RNBQKBNR)\n",
    "    fen_dict = get_fen_dict(fen)\n",
    "    placements = fen_dict['placement'].split(\"/\")\n",
    "\n",
    "    piece_list = []\n",
    "    # iterates over the rows\n",
    "    for i in range(len(placements)):\n",
    "        row = placements[i]\n",
    "        # iterates over the columns\n",
    "        for j in range(len(row)):\n",
    "            col = row[j]\n",
    "            if not col.isdigit():\n",
    "                # the turn will be added later\n",
    "                game_id = None\n",
    "                turn = None\n",
    "                piece = col\n",
    "                if col.islower():\n",
    "                    color = 'w'\n",
    "                else:\n",
    "                    color = 'b'\n",
    "                x = i + 1\n",
    "                y = j + 1\n",
    "                piece_list.append([turn, piece, color, x, y])\n",
    "    df = pd.DataFrame(piece_list, columns=['turn', 'piece', 'color', 'x', 'y'])\n",
    "    return df"
   ]
  },
  {
   "cell_type": "code",
   "execution_count": 51,
   "metadata": {},
   "outputs": [],
   "source": [
    "def get_game_df(san : str):\n",
    "    fen_list = get_fen_list(san)\n",
    "    df_game = pd.DataFrame(columns=['turn', 'piece', 'color', 'x', 'y'])\n",
    "    for i in range(len(fen_list)):\n",
    "        turn_list = get_turn_df(fen_list[i]).values\n",
    "        for turn in turn_list:\n",
    "            turn[0] = i\n",
    "            turn = pd.Series(turn, index = df_game.columns)\n",
    "            df_game = df_game.append(turn, ignore_index=True)\n",
    "    return df_game"
   ]
  },
  {
   "cell_type": "code",
   "execution_count": null,
   "metadata": {},
   "outputs": [],
   "source": []
  }
 ],
 "metadata": {
  "interpreter": {
   "hash": "ba02304b6ad28b230cb6bb8a342f61cfa670ad55fba7f96e73701903601d9731"
  },
  "kernelspec": {
   "display_name": "Python 3.8.8 64-bit (conda)",
   "name": "python3"
  },
  "language_info": {
   "codemirror_mode": {
    "name": "ipython",
    "version": 3
   },
   "file_extension": ".py",
   "mimetype": "text/x-python",
   "name": "python",
   "nbconvert_exporter": "python",
   "pygments_lexer": "ipython3",
   "version": "3.8.8"
  }
 },
 "nbformat": 4,
 "nbformat_minor": 5
}
