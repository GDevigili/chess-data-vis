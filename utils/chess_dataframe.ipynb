{
 "cells": [
  {
   "cell_type": "code",
   "execution_count": 6,
   "id": "fixed-death",
   "metadata": {},
   "outputs": [],
   "source": [
    "import pandas as pd\n",
    "import chess"
   ]
  },
  {
   "cell_type": "code",
   "execution_count": 7,
   "metadata": {},
   "outputs": [],
   "source": [
    "df_chess = pd.read_csv('..\\chess_games.csv')"
   ]
  },
  {
   "cell_type": "code",
   "execution_count": 22,
   "id": "productive-checklist",
   "metadata": {},
   "outputs": [
    {
     "name": "stdout",
     "output_type": "stream",
     "text": [
      "rnbqkbnr/pppppppp/8/8/8/8/PPPPPPPP/RNBQKBNR w KQkq - 0 1\n",
      "7r/R5Qp/2p3Nk/3pP1p1/8/4P1P1/1P2BP1P/5RK1 b - - 0 31\n",
      ". . . . . . . r\n",
      "R . . . . . Q p\n",
      ". . p . . . N k\n",
      ". . . p P . p .\n",
      ". . . . . . . .\n",
      ". . . . P . P .\n",
      ". P . . B P . P\n",
      ". . . . . R K .\n"
     ]
    }
   ],
   "source": [
    "board = chess.Board()\n",
    "print(board.fen())\n",
    "for move in df_chess['moves'][3].split(\" \"):\n",
    "    board.push_san(move)\n",
    "print(board.fen())\n",
    "print(board)"
   ]
  },
  {
   "cell_type": "code",
   "execution_count": 28,
   "metadata": {},
   "outputs": [],
   "source": [
    "def get_fen_list(moves : str)->list:\n",
    "    \"\"\"Transform a string of moves in SAN into a list of FEN board positions for each of the string's moves.\n",
    "\n",
    "    Args:\n",
    "        moves (str): string containing the moves in Standart Algebraic Notation separated by an empty space.\n",
    "\n",
    "    Returns:\n",
    "        fen_list (list str): list of the Forsty-Edwards Notation of the current board position of each turn.\n",
    "    \"\"\"\n",
    "    # defines a new board in the starting position\n",
    "    board = chess.Board()\n",
    "    # creates a list of FEN's\n",
    "    fen_list = [board.fen()]\n",
    "    # transform the string in a list with the moves\n",
    "    moves = moves.split(\" \")\n",
    "\n",
    "    for mv in moves:\n",
    "        # aplica o movimento ao tabuleiro\n",
    "        board.push_san(mv)\n",
    "        fen_list.append(board.fen())\n",
    "    \n",
    "    return fen_list\n",
    "    "
   ]
  },
  {
   "cell_type": "code",
   "execution_count": 50,
   "metadata": {},
   "outputs": [],
   "source": [
    "def get_fen_dict(fen: str)->dict:\n",
    "    placement, active_color, castling, en_passant, halfmove_clock, fullmove_clock = fen.split(\" \")\n",
    "    return {\n",
    "        \"placement\":     placement,\n",
    "        \"active_color\":  active_color,\n",
    "        \"castling\":      castling,\n",
    "        \"en_passant\":    en_passant,\n",
    "        \"halfmove_clock\":halfmove_clock,\n",
    "        \"fullmove_clock\": fullmove_clock\n",
    "    }"
   ]
  },
  {
   "cell_type": "code",
   "execution_count": 38,
   "metadata": {},
   "outputs": [
    {
     "name": "stdout",
     "output_type": "stream",
     "text": [
      "['rnbqkbnr/pppppppp/8/8/8/8/PPPPPPPP/RNBQKBNR w KQkq - 0 1', 'rnbqkbnr/pppppppp/8/8/3P4/8/PPP1PPPP/RNBQKBNR b KQkq - 0 1', 'rnbqkbnr/ppp1pppp/8/3p4/3P4/8/PPP1PPPP/RNBQKBNR w KQkq - 0 2', 'rnbqkbnr/ppp1pppp/8/3p4/2PP4/8/PP2PPPP/RNBQKBNR b KQkq - 0 2', 'rnbqkbnr/pp2pppp/2p5/3p4/2PP4/8/PP2PPPP/RNBQKBNR w KQkq - 0 3', 'rnbqkbnr/pp2pppp/2p5/3P4/3P4/8/PP2PPPP/RNBQKBNR b KQkq - 0 3', 'rnbqkbnr/pp3ppp/2p1p3/3P4/3P4/8/PP2PPPP/RNBQKBNR w KQkq - 0 4', 'rnbqkbnr/pp3ppp/2p1P3/8/3P4/8/PP2PPPP/RNBQKBNR b KQkq - 0 4', 'rnbqkbnr/pp4pp/2p1p3/8/3P4/8/PP2PPPP/RNBQKBNR w KQkq - 0 5', 'rnbqkbnr/pp4pp/2p1p3/8/3P4/5N2/PP2PPPP/RNBQKB1R b KQkq - 1 5', 'rnbqk1nr/pp4pp/2p1p3/8/1b1P4/5N2/PP2PPPP/RNBQKB1R w KQkq - 2 6', 'rnbqk1nr/pp4pp/2p1p3/8/1b1P4/2N2N2/PP2PPPP/R1BQKB1R b KQkq - 3 6', 'rnbqk1nr/pp4pp/2p1p3/b7/3P4/2N2N2/PP2PPPP/R1BQKB1R w KQkq - 4 7', 'rnbqk1nr/pp4pp/2p1p3/b7/3P1B2/2N2N2/PP2PPPP/R2QKB1R b KQkq - 5 7']\n"
     ]
    }
   ],
   "source": [
    "print(get_fen_list(df_chess['moves'][0]))"
   ]
  },
  {
   "cell_type": "code",
   "execution_count": 85,
   "metadata": {},
   "outputs": [],
   "source": [
    "def get_piece_df(fen: str)->pd.DataFrame:    \n",
    "    \"\"\"Transforms a FEN str into a dataframe containing a turn's piece, piece color, x position (1=a, ... 8=h) and y position (1, ..., 8)\"\"\"\n",
    "    \n",
    "    # get only the placement part of the fen string (e.g. rnbqkbnr/pppppppp/8/8/8/8/PPPPPPPP/RNBQKBNR)\n",
    "    fen_dict = get_fen_dict(fen)\n",
    "    placements = fen_dict['placement'].split(\"/\")\n",
    "\n",
    "    piece_list = []\n",
    "    # iterates over the rows\n",
    "    for i in range(len(placements)):\n",
    "        row = placements[i]\n",
    "        # iterates over the columns\n",
    "        for j in range(len(row)):\n",
    "            col = row[j]\n",
    "            if not col.isdigit():\n",
    "                # the turn will be added later\n",
    "                game_id = None\n",
    "                turn = None\n",
    "                piece = col\n",
    "                if col.islower():\n",
    "                    color = 'w'\n",
    "                else:\n",
    "                    color = 'b'\n",
    "                x = i + 1\n",
    "                y = j + 1\n",
    "                piece_list.append([turn, piece, color, x, y])\n",
    "    df = pd.DataFrame(piece_list, columns=['turn', 'piece', 'color', 'x', 'y'])\n",
    "    return df"
   ]
  },
  {
   "cell_type": "code",
   "execution_count": null,
   "metadata": {},
   "outputs": [],
   "source": []
  }
 ],
 "metadata": {
  "interpreter": {
   "hash": "ba02304b6ad28b230cb6bb8a342f61cfa670ad55fba7f96e73701903601d9731"
  },
  "kernelspec": {
   "display_name": "Python 3.8.8 64-bit (conda)",
   "name": "python3"
  },
  "language_info": {
   "codemirror_mode": {
    "name": "ipython",
    "version": 3
   },
   "file_extension": ".py",
   "mimetype": "text/x-python",
   "name": "python",
   "nbconvert_exporter": "python",
   "pygments_lexer": "ipython3",
   "version": "3.8.8"
  }
 },
 "nbformat": 4,
 "nbformat_minor": 5
}
