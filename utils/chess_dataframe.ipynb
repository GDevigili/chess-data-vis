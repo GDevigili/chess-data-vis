{
 "cells": [
  {
   "cell_type": "code",
   "execution_count": 6,
   "id": "fixed-death",
   "metadata": {},
   "outputs": [],
   "source": [
    "import pandas as pd\n",
    "import chess"
   ]
  },
  {
   "cell_type": "code",
   "execution_count": 7,
   "metadata": {},
   "outputs": [],
   "source": [
    "df_chess = pd.read_csv('..\\chess_games.csv')"
   ]
  },
  {
   "cell_type": "code",
   "execution_count": 21,
   "id": "productive-checklist",
   "metadata": {},
   "outputs": [
    {
     "name": "stdout",
     "output_type": "stream",
     "text": [
      "7r/R5Qp/2p3Nk/3pP1p1/8/4P1P1/1P2BP1P/5RK1 b - - 0 31\n",
      ". . . . . . . r\n",
      "R . . . . . Q p\n",
      ". . p . . . N k\n",
      ". . . p P . p .\n",
      ". . . . . . . .\n",
      ". . . . P . P .\n",
      ". P . . B P . P\n",
      ". . . . . R K .\n"
     ]
    }
   ],
   "source": [
    "board = chess.Board()\n",
    "for move in df_chess['moves'][3].split(\" \"):\n",
    "    board.push_san(move)\n",
    "print(board.fen())\n",
    "print(board)"
   ]
  },
  {
   "cell_type": "code",
   "execution_count": null,
   "metadata": {},
   "outputs": [],
   "source": []
  }
 ],
 "metadata": {
  "interpreter": {
   "hash": "ba02304b6ad28b230cb6bb8a342f61cfa670ad55fba7f96e73701903601d9731"
  },
  "kernelspec": {
   "display_name": "Python 3.8.8 64-bit (conda)",
   "name": "python3"
  },
  "language_info": {
   "codemirror_mode": {
    "name": "ipython",
    "version": 3
   },
   "file_extension": ".py",
   "mimetype": "text/x-python",
   "name": "python",
   "nbconvert_exporter": "python",
   "pygments_lexer": "ipython3",
   "version": "3.8.8"
  }
 },
 "nbformat": 4,
 "nbformat_minor": 5
}
