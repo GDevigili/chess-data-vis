{
 "cells": [
  {
   "cell_type": "code",
   "execution_count": 6,
   "id": "fixed-death",
   "metadata": {},
   "outputs": [],
   "source": [
    "import pandas as pd\n",
    "import chess"
   ]
  },
  {
   "cell_type": "code",
   "execution_count": 7,
   "metadata": {},
   "outputs": [],
   "source": [
    "df_chess = pd.read_csv('..\\chess_games.csv')"
   ]
  },
  {
   "cell_type": "code",
   "execution_count": 22,
   "id": "productive-checklist",
   "metadata": {},
   "outputs": [
    {
     "name": "stdout",
     "output_type": "stream",
     "text": [
      "rnbqkbnr/pppppppp/8/8/8/8/PPPPPPPP/RNBQKBNR w KQkq - 0 1\n",
      "7r/R5Qp/2p3Nk/3pP1p1/8/4P1P1/1P2BP1P/5RK1 b - - 0 31\n",
      ". . . . . . . r\n",
      "R . . . . . Q p\n",
      ". . p . . . N k\n",
      ". . . p P . p .\n",
      ". . . . . . . .\n",
      ". . . . P . P .\n",
      ". P . . B P . P\n",
      ". . . . . R K .\n"
     ]
    }
   ],
   "source": [
    "board = chess.Board()\n",
    "print(board.fen())\n",
    "for move in df_chess['moves'][3].split(\" \"):\n",
    "    board.push_san(move)\n",
    "print(board.fen())\n",
    "print(board)"
   ]
  },
  {
   "cell_type": "code",
   "execution_count": 25,
   "metadata": {},
   "outputs": [
    {
     "name": "stdout",
     "output_type": "stream",
     "text": [
      "['rnbqkbnr/pppppppp/8/8/8/8/PPPPPPPP/RNBQKBNR w KQkq - 0 1', 'rnbqkbnr/pppppppp/8/8/3P4/8/PPP1PPPP/RNBQKBNR b KQkq - 0 1', 'r1bqkbnr/pppppppp/2n5/8/3P4/8/PPP1PPPP/RNBQKBNR w KQkq - 1 2', 'r1bqkbnr/pppppppp/2n5/8/3PP3/8/PPP2PPP/RNBQKBNR b KQkq - 0 2', 'r1bqkbnr/pppp1ppp/2n5/4p3/3PP3/8/PPP2PPP/RNBQKBNR w KQkq - 0 3', 'r1bqkbnr/pppp1ppp/2n5/4p3/3PPP2/8/PPP3PP/RNBQKBNR b KQkq - 0 3', 'r1bqkbnr/pppp2pp/2n2p2/4p3/3PPP2/8/PPP3PP/RNBQKBNR w KQkq - 0 4', 'r1bqkbnr/pppp2pp/2n2p2/4P3/4PP2/8/PPP3PP/RNBQKBNR b KQkq - 0 4', 'r1bqkbnr/pppp2pp/2n5/4p3/4PP2/8/PPP3PP/RNBQKBNR w KQkq - 0 5', 'r1bqkbnr/pppp2pp/2n5/4P3/4P3/8/PPP3PP/RNBQKBNR b KQkq - 0 5', 'r1bqkbnr/pppp2pp/8/4n3/4P3/8/PPP3PP/RNBQKBNR w KQkq - 0 6', 'r1bqkbnr/pppp2pp/8/4n3/3QP3/8/PPP3PP/RNB1KBNR b KQkq - 1 6', 'r1bqkbnr/pppp2pp/2n5/8/3QP3/8/PPP3PP/RNB1KBNR w KQkq - 2 7', 'r1bqkbnr/pppp2pp/2n5/4Q3/4P3/8/PPP3PP/RNB1KBNR b KQkq - 3 7', 'r1bqkbnr/pppp2pp/8/4n3/4P3/8/PPP3PP/RNB1KBNR w KQkq - 0 8', 'r1bqkbnr/pppp2pp/8/4n3/2P1P3/8/PP4PP/RNB1KBNR b KQkq - 0 8', 'r1bqk1nr/pppp2pp/8/4n3/1bP1P3/8/PP4PP/RNB1KBNR w KQkq - 1 9']\n"
     ]
    }
   ],
   "source": [
    "def get_fen_list(moves : str)->list:\n",
    "    \"\"\"Transform a string of moves in SAN into a list of FEN's for each move of the string\n",
    "\n",
    "    Args:\n",
    "        moves (str): string containing the moves in Standart Algebraic Notation separated by an empty space\n",
    "\n",
    "    Returns:\n",
    "        fen_list (list str): list of the Forsty-Edwards Notation of the current board position of each turn\n",
    "    \"\"\"\n",
    "    # defines a new board in the starting position\n",
    "    board = chess.Board()\n",
    "    # creates a list of FEN's\n",
    "    fen_list = [board.fen()]\n",
    "    # transform the string in a list with the moves\n",
    "    moves = moves.split(\" \")\n",
    "\n",
    "    for mv in moves:\n",
    "        # aplica o movimento ao tabuleiro\n",
    "        board.push_san(mv)\n",
    "        fen_list.append(board.fen())\n",
    "    \n",
    "    return fen_list\n",
    "\n",
    "print(get_fen_list(df_chess['moves'][1]))\n"
   ]
  },
  {
   "cell_type": "code",
   "execution_count": null,
   "metadata": {},
   "outputs": [],
   "source": []
  }
 ],
 "metadata": {
  "interpreter": {
   "hash": "ba02304b6ad28b230cb6bb8a342f61cfa670ad55fba7f96e73701903601d9731"
  },
  "kernelspec": {
   "display_name": "Python 3.8.8 64-bit (conda)",
   "name": "python3"
  },
  "language_info": {
   "codemirror_mode": {
    "name": "ipython",
    "version": 3
   },
   "file_extension": ".py",
   "mimetype": "text/x-python",
   "name": "python",
   "nbconvert_exporter": "python",
   "pygments_lexer": "ipython3",
   "version": "3.8.8"
  }
 },
 "nbformat": 4,
 "nbformat_minor": 5
}
